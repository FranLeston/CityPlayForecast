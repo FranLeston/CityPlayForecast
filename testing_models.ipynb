{
 "cells": [
  {
   "cell_type": "code",
   "execution_count": 1,
   "id": "99327d85-0dc9-41de-b185-0c6ee9ca1f4e",
   "metadata": {},
   "outputs": [],
   "source": [
    "import pickle\n",
    "import pandas as pd\n",
    "import numpy as np\n",
    "import joblib\n",
    "\n",
    "test = pd.read_excel ('data/test1.xlsx')\n",
    "\n",
    "#autoMachineLearning\n",
    "import h2o\n",
    "from h2o.automl import H2OAutoML"
   ]
  },
  {
   "cell_type": "code",
   "execution_count": null,
   "id": "340d1208-93aa-49d8-8976-36e5a7ff1b2d",
   "metadata": {},
   "outputs": [],
   "source": []
  },
  {
   "cell_type": "code",
   "execution_count": 2,
   "id": "7ca12747-af3e-402f-85d1-cdb13908589a",
   "metadata": {},
   "outputs": [
    {
     "data": {
      "text/html": [
       "<div>\n",
       "<style scoped>\n",
       "    .dataframe tbody tr th:only-of-type {\n",
       "        vertical-align: middle;\n",
       "    }\n",
       "\n",
       "    .dataframe tbody tr th {\n",
       "        vertical-align: top;\n",
       "    }\n",
       "\n",
       "    .dataframe thead th {\n",
       "        text-align: right;\n",
       "    }\n",
       "</style>\n",
       "<table border=\"1\" class=\"dataframe\">\n",
       "  <thead>\n",
       "    <tr style=\"text-align: right;\">\n",
       "      <th></th>\n",
       "      <th>average_temp</th>\n",
       "      <th>total_precip_mm</th>\n",
       "      <th>did_rain</th>\n",
       "      <th>is_closed</th>\n",
       "      <th>is_lockdown</th>\n",
       "      <th>is_curfew</th>\n",
       "      <th>day_of_week_Friday</th>\n",
       "      <th>day_of_week_Monday</th>\n",
       "      <th>day_of_week_Saturday</th>\n",
       "      <th>day_of_week_Sunday</th>\n",
       "      <th>...</th>\n",
       "      <th>year_2019.0</th>\n",
       "      <th>year_2020.0</th>\n",
       "      <th>year_2021.0</th>\n",
       "      <th>day_type_domingo</th>\n",
       "      <th>day_type_festivo</th>\n",
       "      <th>day_type_laborable</th>\n",
       "      <th>day_type_sábado</th>\n",
       "      <th>prev_sales</th>\n",
       "      <th>is_post_holiday</th>\n",
       "      <th>is_pre_holiday</th>\n",
       "    </tr>\n",
       "  </thead>\n",
       "  <tbody>\n",
       "    <tr>\n",
       "      <th>0</th>\n",
       "      <td>23</td>\n",
       "      <td>0</td>\n",
       "      <td>0</td>\n",
       "      <td>0</td>\n",
       "      <td>0</td>\n",
       "      <td>0</td>\n",
       "      <td>0</td>\n",
       "      <td>0</td>\n",
       "      <td>0</td>\n",
       "      <td>0</td>\n",
       "      <td>...</td>\n",
       "      <td>0</td>\n",
       "      <td>0</td>\n",
       "      <td>1</td>\n",
       "      <td>0</td>\n",
       "      <td>0</td>\n",
       "      <td>1</td>\n",
       "      <td>0</td>\n",
       "      <td>723</td>\n",
       "      <td>0</td>\n",
       "      <td>0</td>\n",
       "    </tr>\n",
       "    <tr>\n",
       "      <th>1</th>\n",
       "      <td>25</td>\n",
       "      <td>0</td>\n",
       "      <td>0</td>\n",
       "      <td>0</td>\n",
       "      <td>0</td>\n",
       "      <td>0</td>\n",
       "      <td>0</td>\n",
       "      <td>0</td>\n",
       "      <td>0</td>\n",
       "      <td>0</td>\n",
       "      <td>...</td>\n",
       "      <td>0</td>\n",
       "      <td>0</td>\n",
       "      <td>1</td>\n",
       "      <td>0</td>\n",
       "      <td>0</td>\n",
       "      <td>1</td>\n",
       "      <td>0</td>\n",
       "      <td>1008</td>\n",
       "      <td>0</td>\n",
       "      <td>0</td>\n",
       "    </tr>\n",
       "    <tr>\n",
       "      <th>2</th>\n",
       "      <td>25</td>\n",
       "      <td>0</td>\n",
       "      <td>0</td>\n",
       "      <td>0</td>\n",
       "      <td>0</td>\n",
       "      <td>0</td>\n",
       "      <td>1</td>\n",
       "      <td>0</td>\n",
       "      <td>0</td>\n",
       "      <td>0</td>\n",
       "      <td>...</td>\n",
       "      <td>0</td>\n",
       "      <td>0</td>\n",
       "      <td>1</td>\n",
       "      <td>0</td>\n",
       "      <td>0</td>\n",
       "      <td>1</td>\n",
       "      <td>0</td>\n",
       "      <td>1012</td>\n",
       "      <td>0</td>\n",
       "      <td>1</td>\n",
       "    </tr>\n",
       "    <tr>\n",
       "      <th>3</th>\n",
       "      <td>23</td>\n",
       "      <td>0</td>\n",
       "      <td>0</td>\n",
       "      <td>0</td>\n",
       "      <td>0</td>\n",
       "      <td>0</td>\n",
       "      <td>0</td>\n",
       "      <td>0</td>\n",
       "      <td>1</td>\n",
       "      <td>0</td>\n",
       "      <td>...</td>\n",
       "      <td>0</td>\n",
       "      <td>0</td>\n",
       "      <td>1</td>\n",
       "      <td>0</td>\n",
       "      <td>1</td>\n",
       "      <td>0</td>\n",
       "      <td>0</td>\n",
       "      <td>2020</td>\n",
       "      <td>0</td>\n",
       "      <td>0</td>\n",
       "    </tr>\n",
       "    <tr>\n",
       "      <th>4</th>\n",
       "      <td>24</td>\n",
       "      <td>0</td>\n",
       "      <td>0</td>\n",
       "      <td>0</td>\n",
       "      <td>0</td>\n",
       "      <td>0</td>\n",
       "      <td>0</td>\n",
       "      <td>0</td>\n",
       "      <td>0</td>\n",
       "      <td>1</td>\n",
       "      <td>...</td>\n",
       "      <td>0</td>\n",
       "      <td>0</td>\n",
       "      <td>1</td>\n",
       "      <td>1</td>\n",
       "      <td>0</td>\n",
       "      <td>0</td>\n",
       "      <td>0</td>\n",
       "      <td>6700</td>\n",
       "      <td>1</td>\n",
       "      <td>0</td>\n",
       "    </tr>\n",
       "  </tbody>\n",
       "</table>\n",
       "<p>5 rows × 39 columns</p>\n",
       "</div>"
      ],
      "text/plain": [
       "   average_temp  total_precip_mm  did_rain  is_closed  is_lockdown  is_curfew  \\\n",
       "0            23                0         0          0            0          0   \n",
       "1            25                0         0          0            0          0   \n",
       "2            25                0         0          0            0          0   \n",
       "3            23                0         0          0            0          0   \n",
       "4            24                0         0          0            0          0   \n",
       "\n",
       "   day_of_week_Friday  day_of_week_Monday  day_of_week_Saturday  \\\n",
       "0                   0                   0                     0   \n",
       "1                   0                   0                     0   \n",
       "2                   1                   0                     0   \n",
       "3                   0                   0                     1   \n",
       "4                   0                   0                     0   \n",
       "\n",
       "   day_of_week_Sunday  ...  year_2019.0  year_2020.0  year_2021.0  \\\n",
       "0                   0  ...            0            0            1   \n",
       "1                   0  ...            0            0            1   \n",
       "2                   0  ...            0            0            1   \n",
       "3                   0  ...            0            0            1   \n",
       "4                   1  ...            0            0            1   \n",
       "\n",
       "   day_type_domingo  day_type_festivo  day_type_laborable  day_type_sábado  \\\n",
       "0                 0                 0                   1                0   \n",
       "1                 0                 0                   1                0   \n",
       "2                 0                 0                   1                0   \n",
       "3                 0                 1                   0                0   \n",
       "4                 1                 0                   0                0   \n",
       "\n",
       "   prev_sales  is_post_holiday  is_pre_holiday  \n",
       "0         723                0               0  \n",
       "1        1008                0               0  \n",
       "2        1012                0               1  \n",
       "3        2020                0               0  \n",
       "4        6700                1               0  \n",
       "\n",
       "[5 rows x 39 columns]"
      ]
     },
     "execution_count": 2,
     "metadata": {},
     "output_type": "execute_result"
    }
   ],
   "source": [
    "test"
   ]
  },
  {
   "cell_type": "code",
   "execution_count": null,
   "id": "de1c1e76-8dfe-4ce5-9ee7-911d997c060c",
   "metadata": {},
   "outputs": [],
   "source": []
  },
  {
   "cell_type": "code",
   "execution_count": 3,
   "id": "19f93318-23f4-42f7-9a88-142e8b34e6e1",
   "metadata": {},
   "outputs": [],
   "source": [
    "# load the model from disk\n",
    "loaded_model = pickle.load(open(\"models/best_rf.pkl\", 'rb'))\n"
   ]
  },
  {
   "cell_type": "code",
   "execution_count": 4,
   "id": "249af854-7e31-48a8-b98e-bf46a3637c9e",
   "metadata": {},
   "outputs": [
    {
     "data": {
      "text/plain": [
       "array([1022.32022524, 1175.92904385, 1863.35556586, 5288.63866618,\n",
       "       3759.58067986])"
      ]
     },
     "execution_count": 4,
     "metadata": {},
     "output_type": "execute_result"
    }
   ],
   "source": [
    "loaded_model.predict(test)"
   ]
  },
  {
   "cell_type": "code",
   "execution_count": 5,
   "id": "abcd1757-1d77-4dab-8452-af1361a7e26a",
   "metadata": {},
   "outputs": [
    {
     "name": "stdout",
     "output_type": "stream",
     "text": [
      "Checking whether there is an H2O instance running at http://localhost:54321 ..... not found.\n",
      "Attempting to start a local H2O server...\n",
      "  Java Version: openjdk version \"11.0.11\" 2021-04-20; OpenJDK Runtime Environment (build 11.0.11+9-Ubuntu-0ubuntu2.20.04); OpenJDK 64-Bit Server VM (build 11.0.11+9-Ubuntu-0ubuntu2.20.04, mixed mode, sharing)\n",
      "  Starting server from /home/fran/.local/lib/python3.8/site-packages/h2o/backend/bin/h2o.jar\n",
      "  Ice root: /tmp/tmpf_yuiosp\n",
      "  JVM stdout: /tmp/tmpf_yuiosp/h2o_fran_started_from_python.out\n",
      "  JVM stderr: /tmp/tmpf_yuiosp/h2o_fran_started_from_python.err\n",
      "  Server is running at http://127.0.0.1:54321\n",
      "Connecting to H2O server at http://127.0.0.1:54321 ... successful.\n"
     ]
    },
    {
     "data": {
      "text/html": [
       "<div style=\"overflow:auto\"><table style=\"width:50%\"><tr><td>H2O_cluster_uptime:</td>\n",
       "<td>01 secs</td></tr>\n",
       "<tr><td>H2O_cluster_timezone:</td>\n",
       "<td>Europe/Paris</td></tr>\n",
       "<tr><td>H2O_data_parsing_timezone:</td>\n",
       "<td>UTC</td></tr>\n",
       "<tr><td>H2O_cluster_version:</td>\n",
       "<td>3.32.1.2</td></tr>\n",
       "<tr><td>H2O_cluster_version_age:</td>\n",
       "<td>17 days </td></tr>\n",
       "<tr><td>H2O_cluster_name:</td>\n",
       "<td>H2O_from_python_fran_onigox</td></tr>\n",
       "<tr><td>H2O_cluster_total_nodes:</td>\n",
       "<td>1</td></tr>\n",
       "<tr><td>H2O_cluster_free_memory:</td>\n",
       "<td>3.109 Gb</td></tr>\n",
       "<tr><td>H2O_cluster_total_cores:</td>\n",
       "<td>8</td></tr>\n",
       "<tr><td>H2O_cluster_allowed_cores:</td>\n",
       "<td>8</td></tr>\n",
       "<tr><td>H2O_cluster_status:</td>\n",
       "<td>accepting new members, healthy</td></tr>\n",
       "<tr><td>H2O_connection_url:</td>\n",
       "<td>http://127.0.0.1:54321</td></tr>\n",
       "<tr><td>H2O_connection_proxy:</td>\n",
       "<td>{\"http\": null, \"https\": null}</td></tr>\n",
       "<tr><td>H2O_internal_security:</td>\n",
       "<td>False</td></tr>\n",
       "<tr><td>H2O_API_Extensions:</td>\n",
       "<td>Amazon S3, XGBoost, Algos, AutoML, Core V3, TargetEncoder, Core V4</td></tr>\n",
       "<tr><td>Python_version:</td>\n",
       "<td>3.8.5 final</td></tr></table></div>"
      ],
      "text/plain": [
       "--------------------------  ------------------------------------------------------------------\n",
       "H2O_cluster_uptime:         01 secs\n",
       "H2O_cluster_timezone:       Europe/Paris\n",
       "H2O_data_parsing_timezone:  UTC\n",
       "H2O_cluster_version:        3.32.1.2\n",
       "H2O_cluster_version_age:    17 days\n",
       "H2O_cluster_name:           H2O_from_python_fran_onigox\n",
       "H2O_cluster_total_nodes:    1\n",
       "H2O_cluster_free_memory:    3.109 Gb\n",
       "H2O_cluster_total_cores:    8\n",
       "H2O_cluster_allowed_cores:  8\n",
       "H2O_cluster_status:         accepting new members, healthy\n",
       "H2O_connection_url:         http://127.0.0.1:54321\n",
       "H2O_connection_proxy:       {\"http\": null, \"https\": null}\n",
       "H2O_internal_security:      False\n",
       "H2O_API_Extensions:         Amazon S3, XGBoost, Algos, AutoML, Core V3, TargetEncoder, Core V4\n",
       "Python_version:             3.8.5 final\n",
       "--------------------------  ------------------------------------------------------------------"
      ]
     },
     "metadata": {},
     "output_type": "display_data"
    }
   ],
   "source": [
    "h2o.init() #To start h2o\n"
   ]
  },
  {
   "cell_type": "code",
   "execution_count": 6,
   "id": "42a42437-aa88-45d2-916d-ee47d89ed4e5",
   "metadata": {},
   "outputs": [],
   "source": [
    "saved_model = h2o.load_model('/mnt/c/Users/lesto/Desktop/Ironhack/CityPlayForecast/models/deeplearning/DeepLearning_grid__2_AutoML_20210515_173143_model_1')"
   ]
  },
  {
   "cell_type": "code",
   "execution_count": 7,
   "id": "5cd1910a-d5ed-40c5-a0a0-5cd148465cc6",
   "metadata": {},
   "outputs": [
    {
     "name": "stdout",
     "output_type": "stream",
     "text": [
      "Parse progress: |█████████████████████████████████████████████████████████| 100%\n"
     ]
    },
    {
     "data": {
      "text/html": [
       "<table>\n",
       "<thead>\n",
       "<tr><th style=\"text-align: right;\">  average_temp</th><th style=\"text-align: right;\">  total_precip_mm</th><th style=\"text-align: right;\">  did_rain</th><th style=\"text-align: right;\">  is_closed</th><th style=\"text-align: right;\">  is_lockdown</th><th style=\"text-align: right;\">  is_curfew</th><th style=\"text-align: right;\">  day_of_week_Friday</th><th style=\"text-align: right;\">  day_of_week_Monday</th><th style=\"text-align: right;\">  day_of_week_Saturday</th><th style=\"text-align: right;\">  day_of_week_Sunday</th><th style=\"text-align: right;\">  day_of_week_Thursday</th><th style=\"text-align: right;\">  day_of_week_Tuesday</th><th style=\"text-align: right;\">  day_of_week_Wednesday</th><th style=\"text-align: right;\">  month_name_April</th><th style=\"text-align: right;\">  month_name_August</th><th style=\"text-align: right;\">  month_name_December</th><th style=\"text-align: right;\">  month_name_February</th><th style=\"text-align: right;\">  month_name_January</th><th style=\"text-align: right;\">  month_name_July</th><th style=\"text-align: right;\">  month_name_June</th><th style=\"text-align: right;\">  month_name_March</th><th style=\"text-align: right;\">  month_name_May</th><th style=\"text-align: right;\">  month_name_November</th><th style=\"text-align: right;\">  month_name_October</th><th style=\"text-align: right;\">  month_name_September</th><th style=\"text-align: right;\">  year_2015.0</th><th style=\"text-align: right;\">  year_2016.0</th><th style=\"text-align: right;\">  year_2017.0</th><th style=\"text-align: right;\">  year_2018.0</th><th style=\"text-align: right;\">  year_2019.0</th><th style=\"text-align: right;\">  year_2020.0</th><th style=\"text-align: right;\">  year_2021.0</th><th style=\"text-align: right;\">  day_type_domingo</th><th style=\"text-align: right;\">  day_type_festivo</th><th style=\"text-align: right;\">  day_type_laborable</th><th style=\"text-align: right;\">  day_type_sábado</th><th style=\"text-align: right;\">  prev_sales</th><th style=\"text-align: right;\">  is_post_holiday</th><th style=\"text-align: right;\">  is_pre_holiday</th></tr>\n",
       "</thead>\n",
       "<tbody>\n",
       "<tr><td style=\"text-align: right;\">            23</td><td style=\"text-align: right;\">                0</td><td style=\"text-align: right;\">         0</td><td style=\"text-align: right;\">          0</td><td style=\"text-align: right;\">            0</td><td style=\"text-align: right;\">          0</td><td style=\"text-align: right;\">                   0</td><td style=\"text-align: right;\">                   0</td><td style=\"text-align: right;\">                     0</td><td style=\"text-align: right;\">                   0</td><td style=\"text-align: right;\">                     0</td><td style=\"text-align: right;\">                    1</td><td style=\"text-align: right;\">                      0</td><td style=\"text-align: right;\">                 0</td><td style=\"text-align: right;\">                  0</td><td style=\"text-align: right;\">                    0</td><td style=\"text-align: right;\">                    0</td><td style=\"text-align: right;\">                   0</td><td style=\"text-align: right;\">                0</td><td style=\"text-align: right;\">                0</td><td style=\"text-align: right;\">                 0</td><td style=\"text-align: right;\">               1</td><td style=\"text-align: right;\">                    0</td><td style=\"text-align: right;\">                   0</td><td style=\"text-align: right;\">                     0</td><td style=\"text-align: right;\">            0</td><td style=\"text-align: right;\">            0</td><td style=\"text-align: right;\">            0</td><td style=\"text-align: right;\">            0</td><td style=\"text-align: right;\">            0</td><td style=\"text-align: right;\">            0</td><td style=\"text-align: right;\">            1</td><td style=\"text-align: right;\">                 0</td><td style=\"text-align: right;\">                 0</td><td style=\"text-align: right;\">                   1</td><td style=\"text-align: right;\">                0</td><td style=\"text-align: right;\">         723</td><td style=\"text-align: right;\">                0</td><td style=\"text-align: right;\">               0</td></tr>\n",
       "<tr><td style=\"text-align: right;\">            25</td><td style=\"text-align: right;\">                0</td><td style=\"text-align: right;\">         0</td><td style=\"text-align: right;\">          0</td><td style=\"text-align: right;\">            0</td><td style=\"text-align: right;\">          0</td><td style=\"text-align: right;\">                   0</td><td style=\"text-align: right;\">                   0</td><td style=\"text-align: right;\">                     0</td><td style=\"text-align: right;\">                   0</td><td style=\"text-align: right;\">                     0</td><td style=\"text-align: right;\">                    0</td><td style=\"text-align: right;\">                      1</td><td style=\"text-align: right;\">                 0</td><td style=\"text-align: right;\">                  0</td><td style=\"text-align: right;\">                    0</td><td style=\"text-align: right;\">                    0</td><td style=\"text-align: right;\">                   0</td><td style=\"text-align: right;\">                0</td><td style=\"text-align: right;\">                0</td><td style=\"text-align: right;\">                 0</td><td style=\"text-align: right;\">               1</td><td style=\"text-align: right;\">                    0</td><td style=\"text-align: right;\">                   0</td><td style=\"text-align: right;\">                     0</td><td style=\"text-align: right;\">            0</td><td style=\"text-align: right;\">            0</td><td style=\"text-align: right;\">            0</td><td style=\"text-align: right;\">            0</td><td style=\"text-align: right;\">            0</td><td style=\"text-align: right;\">            0</td><td style=\"text-align: right;\">            1</td><td style=\"text-align: right;\">                 0</td><td style=\"text-align: right;\">                 0</td><td style=\"text-align: right;\">                   1</td><td style=\"text-align: right;\">                0</td><td style=\"text-align: right;\">        1008</td><td style=\"text-align: right;\">                0</td><td style=\"text-align: right;\">               0</td></tr>\n",
       "<tr><td style=\"text-align: right;\">            25</td><td style=\"text-align: right;\">                0</td><td style=\"text-align: right;\">         0</td><td style=\"text-align: right;\">          0</td><td style=\"text-align: right;\">            0</td><td style=\"text-align: right;\">          0</td><td style=\"text-align: right;\">                   1</td><td style=\"text-align: right;\">                   0</td><td style=\"text-align: right;\">                     0</td><td style=\"text-align: right;\">                   0</td><td style=\"text-align: right;\">                     0</td><td style=\"text-align: right;\">                    0</td><td style=\"text-align: right;\">                      0</td><td style=\"text-align: right;\">                 0</td><td style=\"text-align: right;\">                  0</td><td style=\"text-align: right;\">                    0</td><td style=\"text-align: right;\">                    0</td><td style=\"text-align: right;\">                   0</td><td style=\"text-align: right;\">                0</td><td style=\"text-align: right;\">                0</td><td style=\"text-align: right;\">                 0</td><td style=\"text-align: right;\">               1</td><td style=\"text-align: right;\">                    0</td><td style=\"text-align: right;\">                   0</td><td style=\"text-align: right;\">                     0</td><td style=\"text-align: right;\">            0</td><td style=\"text-align: right;\">            0</td><td style=\"text-align: right;\">            0</td><td style=\"text-align: right;\">            0</td><td style=\"text-align: right;\">            0</td><td style=\"text-align: right;\">            0</td><td style=\"text-align: right;\">            1</td><td style=\"text-align: right;\">                 0</td><td style=\"text-align: right;\">                 0</td><td style=\"text-align: right;\">                   1</td><td style=\"text-align: right;\">                0</td><td style=\"text-align: right;\">        1012</td><td style=\"text-align: right;\">                0</td><td style=\"text-align: right;\">               1</td></tr>\n",
       "<tr><td style=\"text-align: right;\">            23</td><td style=\"text-align: right;\">                0</td><td style=\"text-align: right;\">         0</td><td style=\"text-align: right;\">          0</td><td style=\"text-align: right;\">            0</td><td style=\"text-align: right;\">          0</td><td style=\"text-align: right;\">                   0</td><td style=\"text-align: right;\">                   0</td><td style=\"text-align: right;\">                     1</td><td style=\"text-align: right;\">                   0</td><td style=\"text-align: right;\">                     0</td><td style=\"text-align: right;\">                    0</td><td style=\"text-align: right;\">                      0</td><td style=\"text-align: right;\">                 0</td><td style=\"text-align: right;\">                  0</td><td style=\"text-align: right;\">                    0</td><td style=\"text-align: right;\">                    0</td><td style=\"text-align: right;\">                   0</td><td style=\"text-align: right;\">                0</td><td style=\"text-align: right;\">                0</td><td style=\"text-align: right;\">                 0</td><td style=\"text-align: right;\">               1</td><td style=\"text-align: right;\">                    0</td><td style=\"text-align: right;\">                   0</td><td style=\"text-align: right;\">                     0</td><td style=\"text-align: right;\">            0</td><td style=\"text-align: right;\">            0</td><td style=\"text-align: right;\">            0</td><td style=\"text-align: right;\">            0</td><td style=\"text-align: right;\">            0</td><td style=\"text-align: right;\">            0</td><td style=\"text-align: right;\">            1</td><td style=\"text-align: right;\">                 0</td><td style=\"text-align: right;\">                 1</td><td style=\"text-align: right;\">                   0</td><td style=\"text-align: right;\">                0</td><td style=\"text-align: right;\">        2020</td><td style=\"text-align: right;\">                0</td><td style=\"text-align: right;\">               0</td></tr>\n",
       "<tr><td style=\"text-align: right;\">            24</td><td style=\"text-align: right;\">                0</td><td style=\"text-align: right;\">         0</td><td style=\"text-align: right;\">          0</td><td style=\"text-align: right;\">            0</td><td style=\"text-align: right;\">          0</td><td style=\"text-align: right;\">                   0</td><td style=\"text-align: right;\">                   0</td><td style=\"text-align: right;\">                     0</td><td style=\"text-align: right;\">                   1</td><td style=\"text-align: right;\">                     0</td><td style=\"text-align: right;\">                    0</td><td style=\"text-align: right;\">                      0</td><td style=\"text-align: right;\">                 0</td><td style=\"text-align: right;\">                  0</td><td style=\"text-align: right;\">                    0</td><td style=\"text-align: right;\">                    0</td><td style=\"text-align: right;\">                   0</td><td style=\"text-align: right;\">                0</td><td style=\"text-align: right;\">                0</td><td style=\"text-align: right;\">                 0</td><td style=\"text-align: right;\">               1</td><td style=\"text-align: right;\">                    0</td><td style=\"text-align: right;\">                   0</td><td style=\"text-align: right;\">                     0</td><td style=\"text-align: right;\">            0</td><td style=\"text-align: right;\">            0</td><td style=\"text-align: right;\">            0</td><td style=\"text-align: right;\">            0</td><td style=\"text-align: right;\">            0</td><td style=\"text-align: right;\">            0</td><td style=\"text-align: right;\">            1</td><td style=\"text-align: right;\">                 1</td><td style=\"text-align: right;\">                 0</td><td style=\"text-align: right;\">                   0</td><td style=\"text-align: right;\">                0</td><td style=\"text-align: right;\">        6700</td><td style=\"text-align: right;\">                1</td><td style=\"text-align: right;\">               0</td></tr>\n",
       "</tbody>\n",
       "</table>"
      ]
     },
     "metadata": {},
     "output_type": "display_data"
    },
    {
     "data": {
      "text/plain": []
     },
     "execution_count": 7,
     "metadata": {},
     "output_type": "execute_result"
    }
   ],
   "source": [
    "stacked_test = test\n",
    "h2test_stacked = h2o.H2OFrame(stacked_test) #Conversion into a H20 frame to train\n",
    "h2test_stacked.head() #preview"
   ]
  },
  {
   "cell_type": "code",
   "execution_count": 8,
   "id": "bdc9d07a-1043-4351-9da5-f3ad6629befb",
   "metadata": {},
   "outputs": [
    {
     "name": "stdout",
     "output_type": "stream",
     "text": [
      "deeplearning prediction progress: |███████████████████████████████████████| 100%\n"
     ]
    },
    {
     "data": {
      "text/html": [
       "<div>\n",
       "<style scoped>\n",
       "    .dataframe tbody tr th:only-of-type {\n",
       "        vertical-align: middle;\n",
       "    }\n",
       "\n",
       "    .dataframe tbody tr th {\n",
       "        vertical-align: top;\n",
       "    }\n",
       "\n",
       "    .dataframe thead th {\n",
       "        text-align: right;\n",
       "    }\n",
       "</style>\n",
       "<table border=\"1\" class=\"dataframe\">\n",
       "  <thead>\n",
       "    <tr style=\"text-align: right;\">\n",
       "      <th></th>\n",
       "      <th>predict</th>\n",
       "    </tr>\n",
       "  </thead>\n",
       "  <tbody>\n",
       "    <tr>\n",
       "      <th>0</th>\n",
       "      <td>1091.697634</td>\n",
       "    </tr>\n",
       "    <tr>\n",
       "      <th>1</th>\n",
       "      <td>1380.062215</td>\n",
       "    </tr>\n",
       "    <tr>\n",
       "      <th>2</th>\n",
       "      <td>2748.804550</td>\n",
       "    </tr>\n",
       "    <tr>\n",
       "      <th>3</th>\n",
       "      <td>7574.141831</td>\n",
       "    </tr>\n",
       "    <tr>\n",
       "      <th>4</th>\n",
       "      <td>3116.489529</td>\n",
       "    </tr>\n",
       "  </tbody>\n",
       "</table>\n",
       "</div>"
      ],
      "text/plain": [
       "       predict\n",
       "0  1091.697634\n",
       "1  1380.062215\n",
       "2  2748.804550\n",
       "3  7574.141831\n",
       "4  3116.489529"
      ]
     },
     "execution_count": 8,
     "metadata": {},
     "output_type": "execute_result"
    }
   ],
   "source": [
    "predicted_price_h2_stacked = saved_model.predict(h2test_stacked).as_data_frame() #PREDICTING the Sales on the TEST dataset\n",
    "predicted_price_h2_stacked #Result"
   ]
  },
  {
   "cell_type": "code",
   "execution_count": null,
   "id": "5874ac8c-5ebb-46c9-b06f-19e31ab30ae8",
   "metadata": {},
   "outputs": [],
   "source": []
  },
  {
   "cell_type": "code",
   "execution_count": null,
   "id": "3c10313b-1bfe-443a-9860-f68d5a2908ea",
   "metadata": {},
   "outputs": [],
   "source": []
  }
 ],
 "metadata": {
  "kernelspec": {
   "display_name": "cityplay",
   "language": "python",
   "name": "cityplay"
  },
  "language_info": {
   "codemirror_mode": {
    "name": "ipython",
    "version": 3
   },
   "file_extension": ".py",
   "mimetype": "text/x-python",
   "name": "python",
   "nbconvert_exporter": "python",
   "pygments_lexer": "ipython3",
   "version": "3.8.5"
  }
 },
 "nbformat": 4,
 "nbformat_minor": 5
}
